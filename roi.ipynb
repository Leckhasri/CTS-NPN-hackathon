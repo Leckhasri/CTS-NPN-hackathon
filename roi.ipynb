{
 "cells": [
  {
   "cell_type": "code",
   "execution_count": 1,
   "id": "e367a924",
   "metadata": {},
   "outputs": [],
   "source": [
    "import json"
   ]
  },
  {
   "cell_type": "code",
   "execution_count": 2,
   "id": "b1a9d2d5",
   "metadata": {},
   "outputs": [],
   "source": [
    "def calculate_roi_only(\n",
    "    tp,\n",
    "    avg_claim_value,\n",
    "    personnel_cost,\n",
    "    infra_cost,\n",
    "    compliance_cost\n",
    "):\n",
    "    recovered_value = tp * avg_claim_value\n",
    "    operational_cost = personnel_cost + infra_cost + compliance_cost\n",
    "    roi = recovered_value / operational_cost if operational_cost > 0 else 0\n",
    "\n",
    "    return {\n",
    "        \"recovered_value\": recovered_value,\n",
    "        \"operational_cost\": operational_cost,\n",
    "        \"roi\": round(roi, 2)  \n",
    "    }\n"
   ]
  },
  {
   "cell_type": "code",
   "execution_count": 4,
   "id": "9c40c17b",
   "metadata": {},
   "outputs": [
    {
     "name": "stdout",
     "output_type": "stream",
     "text": [
      "ROI Tracker output saved to roi_output.json\n"
     ]
    }
   ],
   "source": [
    "if __name__ == \"__main__\":\n",
    "\n",
    "    tp = 95\n",
    "    avg_claim_value = 1800.0\n",
    "    personnel_cost, infra_cost, compliance_cost = 5000, 1500, 800\n",
    "\n",
    "    result = calculate_roi_only(tp, avg_claim_value, personnel_cost, infra_cost, compliance_cost)\n",
    "\n",
    "    with open(\"roi_output.json\", \"w\") as f:\n",
    "        json.dump(result, f, indent=4)\n",
    "\n",
    "    print(\"ROI Tracker output saved to roi_output.json\")"
   ]
  },
  {
   "cell_type": "code",
   "execution_count": null,
   "id": "a90b975b",
   "metadata": {},
   "outputs": [],
   "source": []
  }
 ],
 "metadata": {
  "kernelspec": {
   "display_name": "pattern",
   "language": "python",
   "name": "python3"
  },
  "language_info": {
   "codemirror_mode": {
    "name": "ipython",
    "version": 3
   },
   "file_extension": ".py",
   "mimetype": "text/x-python",
   "name": "python",
   "nbconvert_exporter": "python",
   "pygments_lexer": "ipython3",
   "version": "3.11.4"
  }
 },
 "nbformat": 4,
 "nbformat_minor": 5
}
